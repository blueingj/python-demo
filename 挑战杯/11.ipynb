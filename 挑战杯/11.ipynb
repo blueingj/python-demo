{
 "cells": [
  {
   "cell_type": "markdown",
   "id": "56b3e3c5",
   "metadata": {},
   "source": [
    "1. 货品图结构构建（例：货位图）"
   ]
  },
  {
   "cell_type": "code",
   "execution_count": 1,
   "id": "14da4c20",
   "metadata": {},
   "outputs": [],
   "source": [
    "import matplotlib.pyplot as plt\n",
    "from matplotlib import rcParams\n",
    "\n",
    "# 设置支持中文的字体\n",
    "rcParams['font.sans-serif'] = ['SimHei']  # 使用黑体\n",
    "rcParams['axes.unicode_minus'] = False   # 解决负号显示问题"
   ]
  },
  {
   "cell_type": "code",
   "execution_count": 4,
   "id": "6f4498be",
   "metadata": {},
   "outputs": [
    {
     "data": {
      "image/png": "[encoded data removed]",
      "text/plain": [
       "<Figure size 640x480 with 1 Axes>"
      ]
     },
     "metadata": {},
     "output_type": "display_data"
    }
   ],
   "source": [
    "import numpy as np\n",
    "import networkx as nx\n",
    "import matplotlib.pyplot as plt\n",
    "\n",
    "# 模拟一个3层货架结构，每层5个货位，总15个货位，加一个入口节点\n",
    "n_layers = 3\n",
    "n_per_layer = 5\n",
    "total_nodes = n_layers * n_per_layer\n",
    "entry_node = 0  # 节点编号从1到15，0为入口\n",
    "\n",
    "# 构建图结构：货位之间横向相连，不同层通过边连接（模拟电梯或主通道）\n",
    "G = nx.Graph()\n",
    "for i in range(1, total_nodes + 1):  # 节点编号从1开始\n",
    "    G.add_node(i, pos=((i - 1) % n_per_layer, (i - 1) // n_per_layer))\n",
    "    # 同层连接\n",
    "    if (i - 1) % n_per_layer != n_per_layer - 1:\n",
    "        G.add_edge(i, i + 1)\n",
    "    # 跨层连接（垂直连接）\n",
    "    if i + n_per_layer <= total_nodes:\n",
    "        G.add_edge(i, i + n_per_layer)\n",
    "\n",
    "# 入口点与第一层所有货位连接\n",
    "for i in range(1, n_per_layer + 1):\n",
    "    G.add_edge(entry_node, i)\n",
    "\n",
    "G.add_node(entry_node, pos=(-1, 0))\n",
    "\n",
    "# 可视化展示\n",
    "pos = nx.get_node_attributes(G, 'pos')\n",
    "nx.draw(G, pos, with_labels=True, node_color='lightblue', node_size=600)\n",
    "plt.title(\"物流中心货位图结构（示意）\")\n",
    "plt.show()"
   ]
  },
  {
   "cell_type": "markdown",
   "id": "a4e8192b",
   "metadata": {},
   "source": [
    "2. 构造量子游走初态与演化操作（以入口为源点）\n",
    "我们将入口节点 entry_node 作为量子游走的起始位置。搜索目标将被标记（如 Uf 操作），使用量子干涉进行多轮演化，最后测量概率最高位置作为搜索结果。"
   ]
  },
  {
   "cell_type": "code",
   "execution_count": 7,
   "id": "4d78a570",
   "metadata": {},
   "outputs": [
    {
     "ename": "NameError",
     "evalue": "name 'initial_state_step2' is not defined",
     "output_type": "error",
     "traceback": [
      "\u001b[1;31m---------------------------------------------------------------------------\u001b[0m",
      "\u001b[1;31mNameError\u001b[0m                                 Traceback (most recent call last)",
      "Cell \u001b[1;32mIn[7], line 42\u001b[0m\n\u001b[0;32m     40\u001b[0m initial_state_step1 \u001b[38;5;241m=\u001b[39m yuansu[\u001b[38;5;241m0\u001b[39m]\n\u001b[0;32m     41\u001b[0m motai_step1 \u001b[38;5;241m=\u001b[39m quantum_walk(initial_state_step1, S1, Uf1, steps\u001b[38;5;241m=\u001b[39m\u001b[38;5;241m2\u001b[39m, size\u001b[38;5;241m=\u001b[39m\u001b[38;5;241m10\u001b[39m)\n\u001b[1;32m---> 42\u001b[0m motai_step2 \u001b[38;5;241m=\u001b[39m quantum_walk(initial_state_step2, S2, Uf2, steps\u001b[38;5;241m=\u001b[39m\u001b[38;5;241m2\u001b[39m, size\u001b[38;5;241m=\u001b[39m\u001b[38;5;241m10\u001b[39m)\n\u001b[0;32m     43\u001b[0m motai_step3 \u001b[38;5;241m=\u001b[39m quantum_walk(initial_state_step3, S3, Uf3, steps\u001b[38;5;241m=\u001b[39m\u001b[38;5;241m2\u001b[39m, size\u001b[38;5;241m=\u001b[39m\u001b[38;5;241m10\u001b[39m)\n\u001b[0;32m     45\u001b[0m \u001b[38;5;28mprint\u001b[39m(\u001b[38;5;124m\"\u001b[39m\u001b[38;5;124mFirst step final state (motai_step1, aiming for yuansu7):\u001b[39m\u001b[38;5;130;01m\\n\u001b[39;00m\u001b[38;5;124m\"\u001b[39m, motai_step1)\n",
      "\u001b[1;31mNameError\u001b[0m: name 'initial_state_step2' is not defined"
     ]
    }
   ],
   "source": [
    "import numpy as np\n",
    "from scipy.linalg import expm\n",
    "\n",
    "def create_basis_vector(index, size=10):\n",
    "    \"\"\"生成基向量\"\"\"\n",
    "    vec = np.zeros((size, 1))\n",
    "    vec[index] = 1\n",
    "    return vec\n",
    "\n",
    "def create_adjacency_matrix(connections, size=10):\n",
    "    \"\"\"生成邻接矩阵\"\"\"\n",
    "    matrix = np.zeros((size, size))\n",
    "    for i, j in connections:\n",
    "        matrix[i, j] = matrix[j, i] = 1\n",
    "    return matrix\n",
    "\n",
    "def create_oracle(target, size=10):\n",
    "    \"\"\"生成目标标记的 Uf 算符\"\"\"\n",
    "    vec = create_basis_vector(target, size)\n",
    "    return np.eye(size) - 2 * vec @ vec.T\n",
    "\n",
    "def quantum_walk(initial_state, adjacency_matrix, oracle, steps, size=10):\n",
    "    \"\"\"量子游走演化\"\"\"\n",
    "    fuzhu = np.sin(0.5 * np.pi / (1 + 2 * steps))\n",
    "    tnp = (2 / np.sqrt(size)) * np.arcsin(np.sqrt(size) * fuzhu)\n",
    "    state = expm(-1j * adjacency_matrix * tnp * 0.5) @ initial_state\n",
    "    evolution = np.eye(size, dtype=complex)\n",
    "    for x in range(1, steps + 1):\n",
    "        evolution = expm(-1j * adjacency_matrix * tnp * ((-1)**x)) @ oracle @ evolution\n",
    "    return evolution @ state\n",
    "\n",
    "# === 初始化基向量 ===\n",
    "size = 10\n",
    "yuansu = [create_basis_vector(i, size) for i in range(size)]\n",
    "\n",
    "# === 第一步：搜索目标元素7 ===\n",
    "connections_step1 = [(0, i) for i in range(1, 8)]  # 中心点0与外围点1-7连接\n",
    "S1 = create_adjacency_matrix(connections_step1, size)\n",
    "Uf1 = create_oracle(7, size)\n",
    "initial_state_step1 = yuansu[0]\n",
    "motai_step1 = quantum_walk(initial_state_step1, S1, Uf1, steps=2, size=10)\n",
    "motai_step2 = quantum_walk(initial_state_step2, S2, Uf2, steps=2, size=10)\n",
    "motai_step3 = quantum_walk(initial_state_step3, S3, Uf3, steps=2, size=10)\n",
    "\n",
    "print(\"First step final state (motai_step1, aiming for yuansu7):\\n\", motai_step1)\n",
    "\n",
    "# === 第二步：搜索目标元素9 ===\n",
    "connections_step2 = [(7, 8), (7, 9), (7, 0)]  # 元素7与元素8、9和0连接\n",
    "S2 = create_adjacency_matrix(connections_step2, size)\n",
    "Uf2 = create_oracle(9, size)\n",
    "initial_state_step2 = np.exp(1j * np.pi / 2) * yuansu[7] @ yuansu[7].T @ motai_step1\n",
    "motai_step2 = quantum_walk(initial_state_step2, S2, Uf2, steps=2, size=3)\n",
    "\n",
    "print(\"\\nSecond step final state (motai_step2, aiming for yuansu9):\\n\", motai_step2)\n",
    "\n",
    "# === 第三步：搜索目标元素5 ===\n",
    "connections_step3 = [(9, 5), (9, 6), (9, 8)]  # 元素9与元素5、6和8连接\n",
    "S3 = create_adjacency_matrix(connections_step3, size)\n",
    "Uf3 = create_oracle(5, size)\n",
    "initial_state_step3 = np.exp(1j * np.pi / 2) * yuansu[9] @ yuansu[9].T @ motai_step2\n",
    "motai_step3 = quantum_walk(initial_state_step3, S3, Uf3, steps=2, size=3)\n",
    "\n",
    "print(\"\\nThird step final state (motai_step3, aiming for yuansu5):\\n\", motai_step3)\n"
   ]
  }
 ],
 "metadata": {
  "kernelspec": {
   "display_name": "base",
   "language": "python",
   "name": "python3"
  },
  "language_info": {
   "codemirror_mode": {
    "name": "ipython",
    "version": 3
   },
   "file_extension": ".py",
   "mimetype": "text/x-python",
   "name": "python",
   "nbconvert_exporter": "python",
   "pygments_lexer": "ipython3",
   "version": "3.12.3"
  }
 },
 "nbformat": 4,
 "nbformat_minor": 5
}
